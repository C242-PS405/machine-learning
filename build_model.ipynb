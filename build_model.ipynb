{
 "cells": [
  {
   "cell_type": "code",
   "execution_count": 2,
   "metadata": {},
   "outputs": [],
   "source": [
    "import pandas as pd"
   ]
  },
  {
   "cell_type": "code",
   "execution_count": 3,
   "metadata": {},
   "outputs": [],
   "source": [
    "df = pd.read_csv(\"coba_bersihkan3.csv\", header=0, quotechar='\"', encoding=\"utf-8\")"
   ]
  },
  {
   "cell_type": "code",
   "execution_count": 6,
   "metadata": {},
   "outputs": [
    {
     "name": "stdout",
     "output_type": "stream",
     "text": [
      "0\n"
     ]
    },
    {
     "data": {
      "text/plain": [
       "url              0\n",
       "title            0\n",
       "description      0\n",
       "keywords         0\n",
       "label            0\n",
       "combined_text    0\n",
       "cleaned_text     0\n",
       "dtype: int64"
      ]
     },
     "execution_count": 6,
     "metadata": {},
     "output_type": "execute_result"
    }
   ],
   "source": [
    "print(df['cleaned_text'].isnull().sum())\n",
    "df.isnull().sum()"
   ]
  },
  {
   "cell_type": "code",
   "execution_count": 7,
   "metadata": {},
   "outputs": [],
   "source": [
    "df = df.dropna()"
   ]
  },
  {
   "cell_type": "code",
   "execution_count": 8,
   "metadata": {},
   "outputs": [
    {
     "data": {
      "text/html": [
       "<div>\n",
       "<style scoped>\n",
       "    .dataframe tbody tr th:only-of-type {\n",
       "        vertical-align: middle;\n",
       "    }\n",
       "\n",
       "    .dataframe tbody tr th {\n",
       "        vertical-align: top;\n",
       "    }\n",
       "\n",
       "    .dataframe thead th {\n",
       "        text-align: right;\n",
       "    }\n",
       "</style>\n",
       "<table border=\"1\" class=\"dataframe\">\n",
       "  <thead>\n",
       "    <tr style=\"text-align: right;\">\n",
       "      <th></th>\n",
       "      <th>url</th>\n",
       "      <th>title</th>\n",
       "      <th>description</th>\n",
       "      <th>keywords</th>\n",
       "      <th>label</th>\n",
       "      <th>combined_text</th>\n",
       "      <th>cleaned_text</th>\n",
       "    </tr>\n",
       "  </thead>\n",
       "  <tbody>\n",
       "    <tr>\n",
       "      <th>0</th>\n",
       "      <td>mainlagi247.org</td>\n",
       "      <td>igamble247com live casino online agen casino c...</td>\n",
       "      <td>igamble247 promotor casino online terbaik bet ...</td>\n",
       "      <td>casino online casino live casino agen casino l...</td>\n",
       "      <td>1</td>\n",
       "      <td>igamble247com live casino online agen casino c...</td>\n",
       "      <td>igamble247com live casino online agen casino c...</td>\n",
       "    </tr>\n",
       "    <tr>\n",
       "      <th>1</th>\n",
       "      <td>mainlahbro.com</td>\n",
       "      <td>plaza4d situs slot depo dana klaim promo bonus...</td>\n",
       "      <td>plaza 4d situs slot online bonus terbesar agen...</td>\n",
       "      <td>agen togel togel online bandar togel togel res...</td>\n",
       "      <td>1</td>\n",
       "      <td>plaza4d situs slot depo dana klaim promo bonus...</td>\n",
       "      <td>plaza4d situs slot depo dana klaim promo bonus...</td>\n",
       "    </tr>\n",
       "    <tr>\n",
       "      <th>2</th>\n",
       "      <td>mainlahkuy.pro</td>\n",
       "      <td>as7000 situs slot raja zeus gampang maxwin</td>\n",
       "      <td>as7000 situs slot zeus mudah maxwin winrate te...</td>\n",
       "      <td>as7000</td>\n",
       "      <td>1</td>\n",
       "      <td>as7000 situs slot raja zeus gampang maxwin as7...</td>\n",
       "      <td>as7000 situs slot raja zeus gampang maxwin as7...</td>\n",
       "    </tr>\n",
       "    <tr>\n",
       "      <th>3</th>\n",
       "      <td>mainlahkuy.xyz</td>\n",
       "      <td>as7000 situs slot gacor berlisensi</td>\n",
       "      <td>as7000 situs game online slot deposit 5k gacor...</td>\n",
       "      <td>as7000 as 7000 as7000 rtp as7000 login as7000 ...</td>\n",
       "      <td>1</td>\n",
       "      <td>as7000 situs slot gacor berlisensi as7000 situ...</td>\n",
       "      <td>as7000 situs slot gacor berlisensi as7000 situ...</td>\n",
       "    </tr>\n",
       "    <tr>\n",
       "      <th>4</th>\n",
       "      <td>mainlahwe.com</td>\n",
       "      <td>fyp805 event special scatter hitam 2024</td>\n",
       "      <td>fyp805 salah situs permainan game online terbe...</td>\n",
       "      <td>fyp805</td>\n",
       "      <td>1</td>\n",
       "      <td>fyp805 event special scatter hitam 2024 fyp805...</td>\n",
       "      <td>fyp805 event special scatter hitam 2024 fyp805...</td>\n",
       "    </tr>\n",
       "  </tbody>\n",
       "</table>\n",
       "</div>"
      ],
      "text/plain": [
       "               url                                              title  \\\n",
       "0  mainlagi247.org  igamble247com live casino online agen casino c...   \n",
       "1   mainlahbro.com  plaza4d situs slot depo dana klaim promo bonus...   \n",
       "2   mainlahkuy.pro         as7000 situs slot raja zeus gampang maxwin   \n",
       "3   mainlahkuy.xyz                 as7000 situs slot gacor berlisensi   \n",
       "4    mainlahwe.com            fyp805 event special scatter hitam 2024   \n",
       "\n",
       "                                         description  \\\n",
       "0  igamble247 promotor casino online terbaik bet ...   \n",
       "1  plaza 4d situs slot online bonus terbesar agen...   \n",
       "2  as7000 situs slot zeus mudah maxwin winrate te...   \n",
       "3  as7000 situs game online slot deposit 5k gacor...   \n",
       "4  fyp805 salah situs permainan game online terbe...   \n",
       "\n",
       "                                            keywords  label  \\\n",
       "0  casino online casino live casino agen casino l...      1   \n",
       "1  agen togel togel online bandar togel togel res...      1   \n",
       "2                                             as7000      1   \n",
       "3  as7000 as 7000 as7000 rtp as7000 login as7000 ...      1   \n",
       "4                                             fyp805      1   \n",
       "\n",
       "                                       combined_text  \\\n",
       "0  igamble247com live casino online agen casino c...   \n",
       "1  plaza4d situs slot depo dana klaim promo bonus...   \n",
       "2  as7000 situs slot raja zeus gampang maxwin as7...   \n",
       "3  as7000 situs slot gacor berlisensi as7000 situ...   \n",
       "4  fyp805 event special scatter hitam 2024 fyp805...   \n",
       "\n",
       "                                        cleaned_text  \n",
       "0  igamble247com live casino online agen casino c...  \n",
       "1  plaza4d situs slot depo dana klaim promo bonus...  \n",
       "2  as7000 situs slot raja zeus gampang maxwin as7...  \n",
       "3  as7000 situs slot gacor berlisensi as7000 situ...  \n",
       "4  fyp805 event special scatter hitam 2024 fyp805...  "
      ]
     },
     "execution_count": 8,
     "metadata": {},
     "output_type": "execute_result"
    }
   ],
   "source": [
    "df.head()"
   ]
  },
  {
   "cell_type": "code",
   "execution_count": 22,
   "metadata": {},
   "outputs": [
    {
     "name": "stdout",
     "output_type": "stream",
     "text": [
      "Contoh tokenized sentences:\n",
      "[['igamble247com', 'live', 'casino', 'online', 'agen', 'casino', 'casino', 'online', 'igamble247', 'promotor', 'casino', 'online', 'terbaik', 'bet', 'terkecil', 'live', 'dealer', 'terpercaya', 'fair', 'salah', 'terbesar', 'asia', 'bergabunglah', 'casino', 'online', 'casino', 'live', 'casino', 'agen', 'casino', 'live', 'casino', 'online', 'igamble247'], ['plaza4d', 'situs', 'slot', 'depo', 'dana', 'klaim', 'promo', 'bonus', 'terbesar', 'plaza', '4d', 'situs', 'slot', 'online', 'bonus', 'terbesar', 'agen', 'togel', 'terpercaya', 'menerima', 'depo', 'via', 'ewallet', 'anti', 'ribet', 'daftar', 'raih', 'max', 'win', 'plaza4d', 'agen', 'togel', 'togel', 'online', 'bandar', 'togel', 'togel', 'resmi', 'situs', 'togel', 'bandar', 'judi', 'online', 'agen', 'casino', 'terpercaya', 'bandar', 'judi', 'bandar', 'togel', 'online', 'slot', 'online', 'casino', 'online', 'judi', 'bola'], ['as7000', 'situs', 'slot', 'raja', 'zeus', 'gampang', 'maxwin', 'as7000', 'situs', 'slot', 'zeus', 'mudah', 'maxwin', 'winrate', 'tertinggi', '988', 'kualitas', 'terbaik', 'peluang', 'menang', 'pilihan', 'game', 'berkualitas', 'grafik', 'kualitas', 'hd', 'nyaman', 'anti', 'lag', 'as7000'], ['as7000', 'situs', 'slot', 'gacor', 'berlisensi', 'as7000', 'situs', 'game', 'online', 'slot', 'deposit', '5k', 'gacor', 'mengantongi', 'lisensi', 'resmi', 'pastinya', 'cuan', 'banget', 'menghadirkan', 'game', 'online', 'provider', 'terpopuler', 'persentase', 'kemenangan', 'tertinggi', '988', 'as7000', 'as', '7000', 'as7000', 'rtp', 'as7000', 'login', 'as7000', 'slot', 'as7000', 'daftar', 'slot', 'deposit', '5k'], ['fyp805', 'event', 'special', 'scatter', 'hitam', '2024', 'fyp805', 'salah', 'situs', 'permainan', 'game', 'online', 'terbesar', 'menyediakan', 'event', 'special', 'scatter', 'hitam', 'hadiah', 'bervariasi', 'fyp805']]\n"
     ]
    }
   ],
   "source": [
    "# Tokenisasi\n",
    "tokenized_sentences = df['cleaned_text'].apply(lambda x: x.split()).tolist()\n",
    "\n",
    "print(\"Contoh tokenized sentences:\")\n",
    "print(tokenized_sentences[:5])  # 5 baris pertama"
   ]
  },
  {
   "cell_type": "code",
   "execution_count": 10,
   "metadata": {},
   "outputs": [
    {
     "name": "stdout",
     "output_type": "stream",
     "text": [
      "Word2Vec model berhasil dibuat!\n"
     ]
    }
   ],
   "source": [
    "from gensim.models import Word2Vec\n",
    "\n",
    "# Latih Word2Vec\n",
    "w2v_model = Word2Vec(\n",
    "    sentences=tokenized_sentences,  # Data tokenized sentences\n",
    "    vector_size=100,               # Dimensi embedding\n",
    "    window=5,                      # Window size (konteks kata)\n",
    "    min_count=5,                   # Kata dengan frekuensi rendah akan diabaikan\n",
    "    workers=4,                     # Jumlah thread\n",
    "    sg=1                           # Gunakan Skip-Gram (0 untuk CBOW)\n",
    ")\n",
    "\n",
    "# Simpan model Word2Vec\n",
    "w2v_model.save(\"word2vec_model.model\")\n",
    "\n",
    "print(\"Word2Vec model berhasil dibuat!\")"
   ]
  },
  {
   "cell_type": "code",
   "execution_count": 11,
   "metadata": {},
   "outputs": [
    {
     "name": "stdout",
     "output_type": "stream",
     "text": [
      "Kata yang mirip dengan 'judi':\n",
      "[('multibet88', 0.7392002940177917), ('online', 0.7204141616821289), ('online24jam', 0.7120330929756165), ('terpercayabandar', 0.7020962238311768), ('onlinejudi', 0.699447751045227), ('rolet', 0.6962600350379944), ('gacorbos88', 0.6960397362709045), ('citibet88', 0.6935504078865051), ('terpercaya', 0.6918578147888184), ('terpercayajudi', 0.6908981800079346), ('onlinesitus', 0.689910352230072), ('onlineagen', 0.6875737309455872), ('terpercayasitus', 0.6872383952140808), ('situs', 0.6813915967941284), ('ib', 0.6781122088432312), ('panen123jp', 0.676302969455719), ('maha168', 0.6759714484214783), ('nenektogel4d', 0.6755889058113098), ('pandora188', 0.6755110621452332), ('bola365', 0.6707205176353455), ('slotjudi', 0.6706294417381287), ('bola168', 0.6704427003860474), ('texas88', 0.668793797492981), ('mansion77', 0.6668182015419006), ('terpercayagame', 0.6655871272087097), ('osg888', 0.6655538082122803), ('amanbet88', 0.6648163199424744), ('terkemukan', 0.6643956303596497), ('topslot88', 0.6640700697898865), ('slotagen', 0.6640454530715942), ('onlinelink', 0.6633087396621704), ('dewacasino', 0.6629039645195007), ('dadu', 0.6618078351020813), ('sip33', 0.6590254902839661), ('dewanaga77', 0.6588644981384277), ('onlin', 0.658433735370636), ('urban89', 0.6573932766914368), ('judibola', 0.6568231582641602), ('maxbet855', 0.6564165949821472), ('mpo007', 0.6564106345176697), ('ligaibc', 0.6552587151527405), ('hokibet88', 0.6549493670463562), ('liga365', 0.6536380052566528), ('onlinesbobet', 0.6532108783721924), ('direkomendasikan', 0.6520100235939026), ('clickbet88', 0.6515580415725708), ('judisitus', 0.6514994502067566), ('bo55', 0.6510429978370667), ('terpercayaagen', 0.6506524682044983), ('maxbet', 0.6503008008003235), ('jasabola', 0.6493844985961914), ('belutwin', 0.6481057405471802), ('mbahdarjo', 0.6481035351753235), ('sbet11', 0.6476759314537048), ('kofbola', 0.6475303769111633), ('hunian303', 0.6467448472976685), ('garuda303', 0.6464149355888367), ('terlangkap', 0.6457762122154236), ('olx88', 0.6455140709877014), ('papabet88', 0.645260214805603), ('bingoslot88', 0.6450862884521484), ('terbarusitus', 0.6450710296630859), ('kudabola', 0.6449291706085205), ('rafigaming', 0.6440722942352295), ('indobet365', 0.6439006924629211), ('judibola123', 0.6436253190040588), ('bet88', 0.6426295042037964), ('dewabet', 0.6425555944442749), ('mixparlay', 0.6414271593093872), ('big777', 0.6403271555900574), ('cemeslot', 0.6397557258605957), ('japanslot88', 0.6391400694847107), ('hokiraja', 0.6390859484672546), ('bomjudi', 0.6389927268028259), ('iya', 0.6388391852378845), ('dewagacor138', 0.6387766003608704), ('unogg', 0.6383583545684814), ('mahoni88', 0.6381709575653076), ('onlinelive', 0.6380547881126404), ('judi388', 0.6372969150543213), ('menangslot', 0.6366515159606934), ('akunjp', 0.6365107893943787), ('hokislot', 0.636447012424469), ('akunbos', 0.6364293694496155), ('slot77', 0.6362152099609375), ('bolahit', 0.6360949873924255), ('bakarat', 0.6359911561012268), ('sedayubet', 0.6357079744338989), ('javaslot88', 0.6347415447235107), ('suhubet', 0.6343696117401123), ('idngg', 0.6340538859367371), ('rajanya', 0.6337651014328003), ('dennis', 0.633699357509613), ('omi88', 0.6336860656738281), ('hoki178', 0.6335708498954773), ('liga188', 0.6326267719268799), ('temposlot', 0.6315514445304871), ('nenektogel', 0.6304520964622498), ('judislot', 0.6301599740982056), ('mantra88', 0.6299608945846558)]\n"
     ]
    }
   ],
   "source": [
    "print(\"Kata yang mirip dengan 'judi':\")\n",
    "print(w2v_model.wv.most_similar(\"judi\", topn=100))"
   ]
  },
  {
   "cell_type": "code",
   "execution_count": 23,
   "metadata": {},
   "outputs": [
    {
     "name": "stdout",
     "output_type": "stream",
     "text": [
      "Embedding untuk kata 'judi':\n",
      "[-0.29200915 -0.1357297   0.33601442 -0.22401641 -0.5778238   0.05668046\n",
      "  0.08449837  1.0928544  -0.31765547 -0.31500104  0.19308046 -0.17155683\n",
      " -0.26249838 -0.13884321  0.24163814  0.44751605 -0.20808744 -0.04232679\n",
      "  0.10562806 -0.71118003 -0.15316576 -0.25636196  0.658041   -0.19824432\n",
      " -0.04794269  0.05092157  0.26369852  0.61821824  0.42518833  0.28494948\n",
      "  1.0292648  -0.4309347  -0.09267516 -0.27909955  0.01257687  0.20938194\n",
      "  0.8862434   0.3422756   0.28585717 -0.627605    0.7580459   0.06789346\n",
      " -0.4410684   0.0757625  -0.26916918  0.04482067 -0.14340822 -0.00255689\n",
      "  0.33396876 -0.06978824 -0.49312225 -0.26749635 -0.19593976  0.66919094\n",
      " -0.04771278  0.43428233  0.29000968  0.15041824  0.5462087  -0.27830133\n",
      "  0.11525825  0.37361172  0.21328087 -0.3096387  -0.40828517  0.5283599\n",
      "  0.14329436  0.17727976 -0.19357017  0.34077343  0.04196771 -0.01276278\n",
      "  0.01656139  0.02337921  0.7924374   0.14204778  0.23613624  0.47203246\n",
      " -0.07226129  0.20010418 -0.03912963  0.20374931  0.10572344  0.77434665\n",
      "  0.12424201 -0.76140356 -0.45208022  0.30606905  0.3556767   0.11449074\n",
      "  0.6983578  -0.19736569 -0.12867539 -0.36216465  0.6410087   0.53046775\n",
      "  0.21431568 -0.38836023  0.26718667  0.07608183]\n"
     ]
    }
   ],
   "source": [
    "print(\"Embedding untuk kata 'judi':\")\n",
    "print(w2v_model.wv['judi'])"
   ]
  },
  {
   "cell_type": "code",
   "execution_count": 24,
   "metadata": {},
   "outputs": [],
   "source": [
    "# Simpan embedding dalam format teks\n",
    "w2v_model.wv.save_word2vec_format('word2vec_embeddings.txt', binary=False)"
   ]
  },
  {
   "cell_type": "code",
   "execution_count": 25,
   "metadata": {},
   "outputs": [],
   "source": [
    "import numpy as np\n",
    "\n",
    "# Vocabulary Word2Vec\n",
    "vocab_size = len(w2v_model.wv)\n",
    "embedding_dim = 100  # Dimensi embedding Word2Vec\n",
    "\n",
    "# Buat embedding matrix\n",
    "embedding_matrix = np.zeros((vocab_size, embedding_dim))\n",
    "word_index = {word: i for i, word in enumerate(w2v_model.wv.index_to_key)}\n",
    "\n",
    "for word, i in word_index.items():\n",
    "    embedding_matrix[i] = w2v_model.wv[word]"
   ]
  },
  {
   "cell_type": "markdown",
   "metadata": {},
   "source": [
    "NEXT ================================================>>>>>>>>>>>>>>>>>>>>>>>"
   ]
  },
  {
   "cell_type": "code",
   "execution_count": 26,
   "metadata": {},
   "outputs": [],
   "source": [
    "import pandas as pd\n",
    "from sklearn.model_selection import train_test_split\n",
    "from tensorflow.keras.preprocessing.text import Tokenizer\n",
    "from tensorflow.keras.preprocessing.sequence import pad_sequences\n",
    "import numpy as np"
   ]
  },
  {
   "cell_type": "code",
   "execution_count": 27,
   "metadata": {},
   "outputs": [],
   "source": [
    "X = df['cleaned_text']  # menggunakan cleaned_text sebagai fitur\n",
    "y = df['label']        # menggunakan kolom label\n",
    "\n",
    "# Split data menjadi training dan testing\n",
    "X_train, X_test, y_train, y_test = train_test_split(\n",
    "    X, y, \n",
    "    test_size=0.2,     # 20% untuk testing\n",
    "    random_state=42,    # untuk reproducibility\n",
    "    stratify=y         # untuk memastikan distribusi kelas seimbang\n",
    ")"
   ]
  },
  {
   "cell_type": "code",
   "execution_count": 28,
   "metadata": {},
   "outputs": [],
   "source": [
    "tokenizer = Tokenizer(num_words=10000)  # membatasi vocabulary size\n",
    "tokenizer.fit_on_texts(X_train)"
   ]
  },
  {
   "cell_type": "code",
   "execution_count": 29,
   "metadata": {},
   "outputs": [],
   "source": [
    "X_train_seq = tokenizer.texts_to_sequences(X_train)\n",
    "X_test_seq = tokenizer.texts_to_sequences(X_test)"
   ]
  },
  {
   "cell_type": "code",
   "execution_count": 30,
   "metadata": {},
   "outputs": [],
   "source": [
    "maxlen = 100  # panjang maksimum sequence\n",
    "X_train_pad = pad_sequences(X_train_seq, maxlen=maxlen)\n",
    "X_test_pad = pad_sequences(X_test_seq, maxlen=maxlen)"
   ]
  },
  {
   "cell_type": "markdown",
   "metadata": {},
   "source": [
    "RETURNNNN"
   ]
  },
  {
   "cell_type": "code",
   "execution_count": 33,
   "metadata": {},
   "outputs": [],
   "source": [
    "import numpy as np\n",
    "import pandas as pd\n",
    "from sklearn.model_selection import train_test_split\n",
    "from tensorflow.keras.preprocessing.text import Tokenizer\n",
    "from tensorflow.keras.preprocessing.sequence import pad_sequences\n",
    "from tensorflow.keras.models import Sequential\n",
    "from tensorflow.keras.layers import Embedding, LSTM, Dense, Dropout, Bidirectional\n",
    "from tensorflow.keras.callbacks import EarlyStopping\n",
    "from sklearn.utils.class_weight import compute_class_weight\n",
    "from sklearn.metrics import classification_report, confusion_matrix"
   ]
  },
  {
   "cell_type": "code",
   "execution_count": 34,
   "metadata": {},
   "outputs": [],
   "source": [
    "maxlen = 100  # panjang maksimum sequence\n",
    "tokenizer = Tokenizer(num_words=10000)  # membatasi vocabulary size\n",
    "tokenizer.fit_on_texts(df['cleaned_text'])"
   ]
  },
  {
   "cell_type": "code",
   "execution_count": 35,
   "metadata": {},
   "outputs": [],
   "source": [
    "sequences = tokenizer.texts_to_sequences(df['cleaned_text'])\n",
    "X = pad_sequences(sequences, maxlen=maxlen)\n",
    "y = df['label'].values"
   ]
  },
  {
   "cell_type": "code",
   "execution_count": 36,
   "metadata": {},
   "outputs": [],
   "source": [
    "X_train, X_test, y_train, y_test = train_test_split(\n",
    "    X, y,\n",
    "    test_size=0.2,\n",
    "    random_state=42,\n",
    "    stratify=y\n",
    ")"
   ]
  },
  {
   "cell_type": "code",
   "execution_count": 37,
   "metadata": {},
   "outputs": [],
   "source": [
    "vocab_size = len(tokenizer.word_index) + 1\n",
    "embedding_dim = 100\n",
    "embedding_matrix = np.zeros((vocab_size, embedding_dim))\n",
    "\n",
    "for word, i in tokenizer.word_index.items():\n",
    "    if word in w2v_model.wv:\n",
    "        embedding_matrix[i] = w2v_model.wv[word]"
   ]
  },
  {
   "cell_type": "code",
   "execution_count": 38,
   "metadata": {},
   "outputs": [
    {
     "name": "stdout",
     "output_type": "stream",
     "text": [
      "Class weights: {0: 3.72625, 1: 0.5774893452150329}\n"
     ]
    }
   ],
   "source": [
    "class_weights = compute_class_weight(\n",
    "    class_weight='balanced',\n",
    "    classes=np.unique(y_train),\n",
    "    y=y_train\n",
    ")\n",
    "class_weight_dict = dict(enumerate(class_weights))\n",
    "\n",
    "print(\"Class weights:\", class_weight_dict)"
   ]
  },
  {
   "cell_type": "code",
   "execution_count": 40,
   "metadata": {},
   "outputs": [
    {
     "name": "stderr",
     "output_type": "stream",
     "text": [
      "d:\\home_fanfan\\bangkit\\coursera\\myenv\\Lib\\site-packages\\keras\\src\\layers\\core\\embedding.py:90: UserWarning: Argument `input_length` is deprecated. Just remove it.\n",
      "  warnings.warn(\n"
     ]
    }
   ],
   "source": [
    "model = Sequential([\n",
    "    # Embedding layer dengan pre-trained Word2Vec weights\n",
    "    Embedding(\n",
    "        input_dim=vocab_size,\n",
    "        output_dim=embedding_dim,\n",
    "        weights=[embedding_matrix],\n",
    "        input_length=maxlen,\n",
    "        trainable=False  # Freeze embedding layer\n",
    "    ),\n",
    "    \n",
    "    # BiLSTM layers\n",
    "    Bidirectional(LSTM(64, return_sequences=True)),\n",
    "    Dropout(0.3),\n",
    "    \n",
    "    Bidirectional(LSTM(32)),\n",
    "    Dropout(0.3),\n",
    "    \n",
    "    # Dense layers\n",
    "    Dense(64, activation='relu'),\n",
    "    Dropout(0.3),\n",
    "    \n",
    "    # Output layer\n",
    "    Dense(1, activation='sigmoid')\n",
    "])"
   ]
  },
  {
   "cell_type": "code",
   "execution_count": 42,
   "metadata": {},
   "outputs": [
    {
     "data": {
      "text/html": [
       "<pre style=\"white-space:pre;overflow-x:auto;line-height:normal;font-family:Menlo,'DejaVu Sans Mono',consolas,'Courier New',monospace\"><span style=\"font-weight: bold\">Model: \"sequential\"</span>\n",
       "</pre>\n"
      ],
      "text/plain": [
       "\u001b[1mModel: \"sequential\"\u001b[0m\n"
      ]
     },
     "metadata": {},
     "output_type": "display_data"
    },
    {
     "data": {
      "text/html": [
       "<pre style=\"white-space:pre;overflow-x:auto;line-height:normal;font-family:Menlo,'DejaVu Sans Mono',consolas,'Courier New',monospace\">┏━━━━━━━━━━━━━━━━━━━━━━━━━━━━━━━━━┳━━━━━━━━━━━━━━━━━━━━━━━━┳━━━━━━━━━━━━━━━┓\n",
       "┃<span style=\"font-weight: bold\"> Layer (type)                    </span>┃<span style=\"font-weight: bold\"> Output Shape           </span>┃<span style=\"font-weight: bold\">       Param # </span>┃\n",
       "┡━━━━━━━━━━━━━━━━━━━━━━━━━━━━━━━━━╇━━━━━━━━━━━━━━━━━━━━━━━━╇━━━━━━━━━━━━━━━┩\n",
       "│ embedding (<span style=\"color: #0087ff; text-decoration-color: #0087ff\">Embedding</span>)           │ ?                      │     <span style=\"color: #00af00; text-decoration-color: #00af00\">4,208,800</span> │\n",
       "├─────────────────────────────────┼────────────────────────┼───────────────┤\n",
       "│ bidirectional (<span style=\"color: #0087ff; text-decoration-color: #0087ff\">Bidirectional</span>)   │ ?                      │   <span style=\"color: #00af00; text-decoration-color: #00af00\">0</span> (unbuilt) │\n",
       "├─────────────────────────────────┼────────────────────────┼───────────────┤\n",
       "│ dropout (<span style=\"color: #0087ff; text-decoration-color: #0087ff\">Dropout</span>)               │ ?                      │             <span style=\"color: #00af00; text-decoration-color: #00af00\">0</span> │\n",
       "├─────────────────────────────────┼────────────────────────┼───────────────┤\n",
       "│ bidirectional_1 (<span style=\"color: #0087ff; text-decoration-color: #0087ff\">Bidirectional</span>) │ ?                      │   <span style=\"color: #00af00; text-decoration-color: #00af00\">0</span> (unbuilt) │\n",
       "├─────────────────────────────────┼────────────────────────┼───────────────┤\n",
       "│ dropout_1 (<span style=\"color: #0087ff; text-decoration-color: #0087ff\">Dropout</span>)             │ ?                      │             <span style=\"color: #00af00; text-decoration-color: #00af00\">0</span> │\n",
       "├─────────────────────────────────┼────────────────────────┼───────────────┤\n",
       "│ dense (<span style=\"color: #0087ff; text-decoration-color: #0087ff\">Dense</span>)                   │ ?                      │   <span style=\"color: #00af00; text-decoration-color: #00af00\">0</span> (unbuilt) │\n",
       "├─────────────────────────────────┼────────────────────────┼───────────────┤\n",
       "│ dropout_2 (<span style=\"color: #0087ff; text-decoration-color: #0087ff\">Dropout</span>)             │ ?                      │             <span style=\"color: #00af00; text-decoration-color: #00af00\">0</span> │\n",
       "├─────────────────────────────────┼────────────────────────┼───────────────┤\n",
       "│ dense_1 (<span style=\"color: #0087ff; text-decoration-color: #0087ff\">Dense</span>)                 │ ?                      │   <span style=\"color: #00af00; text-decoration-color: #00af00\">0</span> (unbuilt) │\n",
       "└─────────────────────────────────┴────────────────────────┴───────────────┘\n",
       "</pre>\n"
      ],
      "text/plain": [
       "┏━━━━━━━━━━━━━━━━━━━━━━━━━━━━━━━━━┳━━━━━━━━━━━━━━━━━━━━━━━━┳━━━━━━━━━━━━━━━┓\n",
       "┃\u001b[1m \u001b[0m\u001b[1mLayer (type)                   \u001b[0m\u001b[1m \u001b[0m┃\u001b[1m \u001b[0m\u001b[1mOutput Shape          \u001b[0m\u001b[1m \u001b[0m┃\u001b[1m \u001b[0m\u001b[1m      Param #\u001b[0m\u001b[1m \u001b[0m┃\n",
       "┡━━━━━━━━━━━━━━━━━━━━━━━━━━━━━━━━━╇━━━━━━━━━━━━━━━━━━━━━━━━╇━━━━━━━━━━━━━━━┩\n",
       "│ embedding (\u001b[38;5;33mEmbedding\u001b[0m)           │ ?                      │     \u001b[38;5;34m4,208,800\u001b[0m │\n",
       "├─────────────────────────────────┼────────────────────────┼───────────────┤\n",
       "│ bidirectional (\u001b[38;5;33mBidirectional\u001b[0m)   │ ?                      │   \u001b[38;5;34m0\u001b[0m (unbuilt) │\n",
       "├─────────────────────────────────┼────────────────────────┼───────────────┤\n",
       "│ dropout (\u001b[38;5;33mDropout\u001b[0m)               │ ?                      │             \u001b[38;5;34m0\u001b[0m │\n",
       "├─────────────────────────────────┼────────────────────────┼───────────────┤\n",
       "│ bidirectional_1 (\u001b[38;5;33mBidirectional\u001b[0m) │ ?                      │   \u001b[38;5;34m0\u001b[0m (unbuilt) │\n",
       "├─────────────────────────────────┼────────────────────────┼───────────────┤\n",
       "│ dropout_1 (\u001b[38;5;33mDropout\u001b[0m)             │ ?                      │             \u001b[38;5;34m0\u001b[0m │\n",
       "├─────────────────────────────────┼────────────────────────┼───────────────┤\n",
       "│ dense (\u001b[38;5;33mDense\u001b[0m)                   │ ?                      │   \u001b[38;5;34m0\u001b[0m (unbuilt) │\n",
       "├─────────────────────────────────┼────────────────────────┼───────────────┤\n",
       "│ dropout_2 (\u001b[38;5;33mDropout\u001b[0m)             │ ?                      │             \u001b[38;5;34m0\u001b[0m │\n",
       "├─────────────────────────────────┼────────────────────────┼───────────────┤\n",
       "│ dense_1 (\u001b[38;5;33mDense\u001b[0m)                 │ ?                      │   \u001b[38;5;34m0\u001b[0m (unbuilt) │\n",
       "└─────────────────────────────────┴────────────────────────┴───────────────┘\n"
      ]
     },
     "metadata": {},
     "output_type": "display_data"
    },
    {
     "data": {
      "text/html": [
       "<pre style=\"white-space:pre;overflow-x:auto;line-height:normal;font-family:Menlo,'DejaVu Sans Mono',consolas,'Courier New',monospace\"><span style=\"font-weight: bold\"> Total params: </span><span style=\"color: #00af00; text-decoration-color: #00af00\">4,208,800</span> (16.06 MB)\n",
       "</pre>\n"
      ],
      "text/plain": [
       "\u001b[1m Total params: \u001b[0m\u001b[38;5;34m4,208,800\u001b[0m (16.06 MB)\n"
      ]
     },
     "metadata": {},
     "output_type": "display_data"
    },
    {
     "data": {
      "text/html": [
       "<pre style=\"white-space:pre;overflow-x:auto;line-height:normal;font-family:Menlo,'DejaVu Sans Mono',consolas,'Courier New',monospace\"><span style=\"font-weight: bold\"> Trainable params: </span><span style=\"color: #00af00; text-decoration-color: #00af00\">0</span> (0.00 B)\n",
       "</pre>\n"
      ],
      "text/plain": [
       "\u001b[1m Trainable params: \u001b[0m\u001b[38;5;34m0\u001b[0m (0.00 B)\n"
      ]
     },
     "metadata": {},
     "output_type": "display_data"
    },
    {
     "data": {
      "text/html": [
       "<pre style=\"white-space:pre;overflow-x:auto;line-height:normal;font-family:Menlo,'DejaVu Sans Mono',consolas,'Courier New',monospace\"><span style=\"font-weight: bold\"> Non-trainable params: </span><span style=\"color: #00af00; text-decoration-color: #00af00\">4,208,800</span> (16.06 MB)\n",
       "</pre>\n"
      ],
      "text/plain": [
       "\u001b[1m Non-trainable params: \u001b[0m\u001b[38;5;34m4,208,800\u001b[0m (16.06 MB)\n"
      ]
     },
     "metadata": {},
     "output_type": "display_data"
    }
   ],
   "source": [
    "model.compile(\n",
    "    optimizer='adam',\n",
    "    loss='binary_crossentropy',\n",
    "    metrics=['accuracy', 'Precision', 'Recall', 'AUC']\n",
    ")\n",
    "\n",
    "# Tampilkan summary model\n",
    "model.summary()"
   ]
  },
  {
   "cell_type": "code",
   "execution_count": 43,
   "metadata": {},
   "outputs": [],
   "source": [
    "early_stopping = EarlyStopping(\n",
    "    monitor='val_precision',  # Monitor precision\n",
    "    patience=3,\n",
    "    restore_best_weights=True,\n",
    "    mode='max'\n",
    ")"
   ]
  },
  {
   "cell_type": "code",
   "execution_count": 44,
   "metadata": {},
   "outputs": [
    {
     "name": "stdout",
     "output_type": "stream",
     "text": [
      "Epoch 1/20\n",
      "\u001b[1m373/373\u001b[0m \u001b[32m━━━━━━━━━━━━━━━━━━━━\u001b[0m\u001b[37m\u001b[0m \u001b[1m52s\u001b[0m 102ms/step - AUC: 0.9760 - Precision: 0.9915 - Recall: 0.9435 - accuracy: 0.9444 - loss: 0.2088 - val_AUC: 0.9934 - val_Precision: 0.9913 - val_Recall: 0.9808 - val_accuracy: 0.9762 - val_loss: 0.0763\n",
      "Epoch 2/20\n"
     ]
    },
    {
     "name": "stderr",
     "output_type": "stream",
     "text": [
      "d:\\home_fanfan\\bangkit\\coursera\\myenv\\Lib\\site-packages\\keras\\src\\callbacks\\early_stopping.py:155: UserWarning: Early stopping conditioned on metric `val_precision` which is not available. Available metrics are: AUC,Precision,Recall,accuracy,loss,val_AUC,val_Precision,val_Recall,val_accuracy,val_loss\n",
      "  current = self.get_monitor_value(logs)\n"
     ]
    },
    {
     "name": "stdout",
     "output_type": "stream",
     "text": [
      "\u001b[1m373/373\u001b[0m \u001b[32m━━━━━━━━━━━━━━━━━━━━\u001b[0m\u001b[37m\u001b[0m \u001b[1m46s\u001b[0m 122ms/step - AUC: 0.9955 - Precision: 0.9965 - Recall: 0.9694 - accuracy: 0.9706 - loss: 0.0728 - val_AUC: 0.9940 - val_Precision: 0.9940 - val_Recall: 0.9793 - val_accuracy: 0.9772 - val_loss: 0.0762\n",
      "Epoch 3/20\n",
      "\u001b[1m373/373\u001b[0m \u001b[32m━━━━━━━━━━━━━━━━━━━━\u001b[0m\u001b[37m\u001b[0m \u001b[1m49s\u001b[0m 131ms/step - AUC: 0.9962 - Precision: 0.9973 - Recall: 0.9782 - accuracy: 0.9787 - loss: 0.0602 - val_AUC: 0.9946 - val_Precision: 0.9960 - val_Recall: 0.9789 - val_accuracy: 0.9785 - val_loss: 0.0681\n",
      "Epoch 4/20\n",
      "\u001b[1m373/373\u001b[0m \u001b[32m━━━━━━━━━━━━━━━━━━━━\u001b[0m\u001b[37m\u001b[0m \u001b[1m39s\u001b[0m 105ms/step - AUC: 0.9966 - Precision: 0.9986 - Recall: 0.9835 - accuracy: 0.9845 - loss: 0.0498 - val_AUC: 0.9958 - val_Precision: 0.9976 - val_Recall: 0.9851 - val_accuracy: 0.9852 - val_loss: 0.0513\n",
      "Epoch 5/20\n",
      "\u001b[1m373/373\u001b[0m \u001b[32m━━━━━━━━━━━━━━━━━━━━\u001b[0m\u001b[37m\u001b[0m \u001b[1m46s\u001b[0m 125ms/step - AUC: 0.9988 - Precision: 0.9989 - Recall: 0.9869 - accuracy: 0.9877 - loss: 0.0314 - val_AUC: 0.9955 - val_Precision: 0.9988 - val_Recall: 0.9824 - val_accuracy: 0.9839 - val_loss: 0.0538\n",
      "Epoch 6/20\n",
      "\u001b[1m373/373\u001b[0m \u001b[32m━━━━━━━━━━━━━━━━━━━━\u001b[0m\u001b[37m\u001b[0m \u001b[1m41s\u001b[0m 110ms/step - AUC: 0.9989 - Precision: 0.9991 - Recall: 0.9877 - accuracy: 0.9885 - loss: 0.0273 - val_AUC: 0.9968 - val_Precision: 0.9984 - val_Recall: 0.9840 - val_accuracy: 0.9849 - val_loss: 0.0503\n",
      "Epoch 7/20\n",
      "\u001b[1m373/373\u001b[0m \u001b[32m━━━━━━━━━━━━━━━━━━━━\u001b[0m\u001b[37m\u001b[0m \u001b[1m41s\u001b[0m 109ms/step - AUC: 0.9961 - Precision: 0.9996 - Recall: 0.9850 - accuracy: 0.9866 - loss: 0.0266 - val_AUC: 0.9970 - val_Precision: 0.9992 - val_Recall: 0.9847 - val_accuracy: 0.9862 - val_loss: 0.0489\n",
      "Epoch 8/20\n",
      "\u001b[1m373/373\u001b[0m \u001b[32m━━━━━━━━━━━━━━━━━━━━\u001b[0m\u001b[37m\u001b[0m \u001b[1m42s\u001b[0m 114ms/step - AUC: 0.9992 - Precision: 0.9995 - Recall: 0.9912 - accuracy: 0.9920 - loss: 0.0218 - val_AUC: 0.9973 - val_Precision: 0.9968 - val_Recall: 0.9902 - val_accuracy: 0.9889 - val_loss: 0.0345\n",
      "Epoch 9/20\n",
      "\u001b[1m373/373\u001b[0m \u001b[32m━━━━━━━━━━━━━━━━━━━━\u001b[0m\u001b[37m\u001b[0m \u001b[1m41s\u001b[0m 109ms/step - AUC: 0.9993 - Precision: 0.9997 - Recall: 0.9919 - accuracy: 0.9927 - loss: 0.0181 - val_AUC: 0.9974 - val_Precision: 0.9988 - val_Recall: 0.9859 - val_accuracy: 0.9869 - val_loss: 0.0364\n",
      "Epoch 10/20\n",
      "\u001b[1m373/373\u001b[0m \u001b[32m━━━━━━━━━━━━━━━━━━━━\u001b[0m\u001b[37m\u001b[0m \u001b[1m42s\u001b[0m 112ms/step - AUC: 0.9992 - Precision: 0.9999 - Recall: 0.9872 - accuracy: 0.9888 - loss: 0.0214 - val_AUC: 0.9937 - val_Precision: 0.9957 - val_Recall: 0.9910 - val_accuracy: 0.9886 - val_loss: 0.0454\n",
      "Epoch 11/20\n",
      "\u001b[1m373/373\u001b[0m \u001b[32m━━━━━━━━━━━━━━━━━━━━\u001b[0m\u001b[37m\u001b[0m \u001b[1m43s\u001b[0m 115ms/step - AUC: 0.9985 - Precision: 0.9995 - Recall: 0.9885 - accuracy: 0.9896 - loss: 0.0266 - val_AUC: 0.9975 - val_Precision: 0.9968 - val_Recall: 0.9883 - val_accuracy: 0.9873 - val_loss: 0.0376\n",
      "Epoch 12/20\n",
      "\u001b[1m373/373\u001b[0m \u001b[32m━━━━━━━━━━━━━━━━━━━━\u001b[0m\u001b[37m\u001b[0m \u001b[1m43s\u001b[0m 114ms/step - AUC: 0.9991 - Precision: 0.9999 - Recall: 0.9905 - accuracy: 0.9917 - loss: 0.0175 - val_AUC: 0.9975 - val_Precision: 0.9972 - val_Recall: 0.9902 - val_accuracy: 0.9893 - val_loss: 0.0365\n",
      "Epoch 13/20\n",
      "\u001b[1m373/373\u001b[0m \u001b[32m━━━━━━━━━━━━━━━━━━━━\u001b[0m\u001b[37m\u001b[0m \u001b[1m45s\u001b[0m 120ms/step - AUC: 0.9992 - Precision: 0.9996 - Recall: 0.9887 - accuracy: 0.9898 - loss: 0.0242 - val_AUC: 0.9974 - val_Precision: 0.9988 - val_Recall: 0.9867 - val_accuracy: 0.9876 - val_loss: 0.0386\n",
      "Epoch 14/20\n",
      "\u001b[1m373/373\u001b[0m \u001b[32m━━━━━━━━━━━━━━━━━━━━\u001b[0m\u001b[37m\u001b[0m \u001b[1m41s\u001b[0m 110ms/step - AUC: 0.9991 - Precision: 0.9995 - Recall: 0.9898 - accuracy: 0.9907 - loss: 0.0231 - val_AUC: 0.9972 - val_Precision: 0.9965 - val_Recall: 0.9902 - val_accuracy: 0.9886 - val_loss: 0.0423\n",
      "Epoch 15/20\n",
      "\u001b[1m373/373\u001b[0m \u001b[32m━━━━━━━━━━━━━━━━━━━━\u001b[0m\u001b[37m\u001b[0m \u001b[1m42s\u001b[0m 112ms/step - AUC: 0.9995 - Precision: 0.9995 - Recall: 0.9910 - accuracy: 0.9917 - loss: 0.0177 - val_AUC: 0.9962 - val_Precision: 0.9972 - val_Recall: 0.9887 - val_accuracy: 0.9879 - val_loss: 0.0424\n",
      "Epoch 16/20\n",
      "\u001b[1m373/373\u001b[0m \u001b[32m━━━━━━━━━━━━━━━━━━━━\u001b[0m\u001b[37m\u001b[0m \u001b[1m42s\u001b[0m 113ms/step - AUC: 0.9995 - Precision: 0.9993 - Recall: 0.9910 - accuracy: 0.9915 - loss: 0.0184 - val_AUC: 0.9951 - val_Precision: 0.9968 - val_Recall: 0.9902 - val_accuracy: 0.9889 - val_loss: 0.0436\n",
      "Epoch 17/20\n",
      "\u001b[1m373/373\u001b[0m \u001b[32m━━━━━━━━━━━━━━━━━━━━\u001b[0m\u001b[37m\u001b[0m \u001b[1m42s\u001b[0m 113ms/step - AUC: 0.9995 - Precision: 0.9997 - Recall: 0.9925 - accuracy: 0.9933 - loss: 0.0140 - val_AUC: 0.9965 - val_Precision: 0.9972 - val_Recall: 0.9902 - val_accuracy: 0.9893 - val_loss: 0.0408\n",
      "Epoch 18/20\n",
      "\u001b[1m373/373\u001b[0m \u001b[32m━━━━━━━━━━━━━━━━━━━━\u001b[0m\u001b[37m\u001b[0m \u001b[1m44s\u001b[0m 119ms/step - AUC: 0.9995 - Precision: 0.9998 - Recall: 0.9925 - accuracy: 0.9933 - loss: 0.0146 - val_AUC: 0.9926 - val_Precision: 0.9965 - val_Recall: 0.9902 - val_accuracy: 0.9886 - val_loss: 0.0475\n",
      "Epoch 19/20\n",
      "\u001b[1m373/373\u001b[0m \u001b[32m━━━━━━━━━━━━━━━━━━━━\u001b[0m\u001b[37m\u001b[0m \u001b[1m43s\u001b[0m 115ms/step - AUC: 0.9994 - Precision: 0.9998 - Recall: 0.9919 - accuracy: 0.9928 - loss: 0.0164 - val_AUC: 0.9963 - val_Precision: 0.9957 - val_Recall: 0.9918 - val_accuracy: 0.9893 - val_loss: 0.0402\n",
      "Epoch 20/20\n",
      "\u001b[1m373/373\u001b[0m \u001b[32m━━━━━━━━━━━━━━━━━━━━\u001b[0m\u001b[37m\u001b[0m \u001b[1m44s\u001b[0m 118ms/step - AUC: 0.9996 - Precision: 1.0000 - Recall: 0.9941 - accuracy: 0.9949 - loss: 0.0118 - val_AUC: 0.9919 - val_Precision: 0.9949 - val_Recall: 0.9949 - val_accuracy: 0.9913 - val_loss: 0.0462\n"
     ]
    }
   ],
   "source": [
    "history = model.fit(\n",
    "    X_train,\n",
    "    y_train,\n",
    "    validation_split=0.2,\n",
    "    epochs=20,\n",
    "    batch_size=32,\n",
    "    class_weight=class_weight_dict,\n",
    "    callbacks=[early_stopping]\n",
    ")"
   ]
  },
  {
   "cell_type": "code",
   "execution_count": 45,
   "metadata": {},
   "outputs": [
    {
     "name": "stdout",
     "output_type": "stream",
     "text": [
      "\u001b[1m117/117\u001b[0m \u001b[32m━━━━━━━━━━━━━━━━━━━━\u001b[0m\u001b[37m\u001b[0m \u001b[1m6s\u001b[0m 38ms/step\n",
      "\n",
      "Classification Report:\n",
      "              precision    recall  f1-score   support\n",
      "\n",
      "           0       0.98      0.99      0.99       500\n",
      "           1       1.00      1.00      1.00      3227\n",
      "\n",
      "    accuracy                           1.00      3727\n",
      "   macro avg       0.99      0.99      0.99      3727\n",
      "weighted avg       1.00      1.00      1.00      3727\n",
      "\n",
      "\n",
      "Confusion Matrix:\n",
      "[[ 495    5]\n",
      " [   9 3218]]\n"
     ]
    }
   ],
   "source": [
    "# Prediksi\n",
    "y_pred_proba = model.predict(X_test)\n",
    "y_pred = (y_pred_proba > 0.5).astype(int)\n",
    "\n",
    "# Print metrics\n",
    "print(\"\\nClassification Report:\")\n",
    "print(classification_report(y_test, y_pred))\n",
    "\n",
    "print(\"\\nConfusion Matrix:\")\n",
    "print(confusion_matrix(y_test, y_pred))"
   ]
  },
  {
   "cell_type": "code",
   "execution_count": 46,
   "metadata": {},
   "outputs": [
    {
     "data": {
      "image/png": "[encoded data removed]",
      "text/plain": [
       "<Figure size 1200x400 with 2 Axes>"
      ]
     },
     "metadata": {},
     "output_type": "display_data"
    }
   ],
   "source": [
    "import matplotlib.pyplot as plt\n",
    "\n",
    "def plot_training_history(history):\n",
    "    # Plot accuracy\n",
    "    plt.figure(figsize=(12, 4))\n",
    "    \n",
    "    plt.subplot(1, 2, 1)\n",
    "    plt.plot(history.history['accuracy'])\n",
    "    plt.plot(history.history['val_accuracy'])\n",
    "    plt.title('Model accuracy')\n",
    "    plt.ylabel('Accuracy')\n",
    "    plt.xlabel('Epoch')\n",
    "    plt.legend(['Train', 'Validation'], loc='upper left')\n",
    "    \n",
    "    # Plot loss\n",
    "    plt.subplot(1, 2, 2)\n",
    "    plt.plot(history.history['loss'])\n",
    "    plt.plot(history.history['val_loss'])\n",
    "    plt.title('Model loss')\n",
    "    plt.ylabel('Loss')\n",
    "    plt.xlabel('Epoch')\n",
    "    plt.legend(['Train', 'Validation'], loc='upper left')\n",
    "    \n",
    "    plt.tight_layout()\n",
    "    plt.show()\n",
    "\n",
    "plot_training_history(history)"
   ]
  },
  {
   "cell_type": "code",
   "execution_count": 47,
   "metadata": {},
   "outputs": [
    {
     "name": "stderr",
     "output_type": "stream",
     "text": [
      "WARNING:absl:You are saving your model as an HDF5 file via `model.save()` or `keras.saving.save_model(model)`. This file format is considered legacy. We recommend using instead the native Keras format, e.g. `model.save('my_model.keras')` or `keras.saving.save_model(model, 'my_model.keras')`. \n"
     ]
    },
    {
     "name": "stdout",
     "output_type": "stream",
     "text": [
      "Model dan tokenizer berhasil disimpan!\n"
     ]
    }
   ],
   "source": [
    "# Simpan model\n",
    "model.save('gambling_detection_model.h5')\n",
    "\n",
    "# Simpan tokenizer\n",
    "import pickle\n",
    "with open('tokenizer.pickle', 'wb') as handle:\n",
    "    pickle.dump(tokenizer, handle)\n",
    "\n",
    "print(\"Model dan tokenizer berhasil disimpan!\")"
   ]
  },
  {
   "cell_type": "code",
   "execution_count": null,
   "metadata": {},
   "outputs": [
    {
     "name": "stdout",
     "output_type": "stream",
     "text": [
      "\u001b[1m1/1\u001b[0m \u001b[32m━━━━━━━━━━━━━━━━━━━━\u001b[0m\u001b[37m\u001b[0m \u001b[1m0s\u001b[0m 169ms/step\n",
      "\n",
      "Hasil Prediksi:\n",
      "Teks: kominfo melakukan pemblokiran website judi online\n",
      "Probabilitas: 0.2055\n",
      "Prediksi: Bukan Judi Online\n"
     ]
    }
   ],
   "source": [
    "def predict_text(text):\n",
    "    # Preprocessing\n",
    "    # Gunakan preprocessing yang sama dengan data training\n",
    "    \n",
    "    # Tokenisasi dan padding\n",
    "    sequence = tokenizer.texts_to_sequences([text])\n",
    "    padded = pad_sequences(sequence, maxlen=maxlen)\n",
    "    \n",
    "    # Prediksi\n",
    "    prediction = model.predict(padded)[0][0]\n",
    "    \n",
    "    return {\n",
    "        'text': text,\n",
    "        'probability': float(prediction),\n",
    "        'prediction': 'Judi Online' if prediction > 0.5 else 'Bukan Judi Online'\n",
    "    }\n",
    "\n",
    "# Contoh penggunaan\n",
    "test_text = \"kominfo melakukan pemblokiran website judi online\" #hasilnya bukan\n",
    "# test_text = \"pemerintah indonesia melakukan pemblokiran terhadap 2000 website judi online\" # hasilnya bukan\n",
    "# test_test = \"pemerintah berhasil indonesia melakukan pemblokiran terhadap 2 juta website judi online\" #hasilnya bukan\n",
    "# test_text = \"website resmi di indonesia dijamin maxwin\"\n",
    "# test_text = \"website resmi di indonesia dijamin menang\"\n",
    "# test_text = \"website terpecaya di amin wd\"\n",
    "result = predict_text(test_text)\n",
    "print(\"\\nHasil Prediksi:\")\n",
    "print(f\"Teks: {result['text']}\")\n",
    "print(f\"Probabilitas: {result['probability']:.4f}\")\n",
    "print(f\"Prediksi: {result['prediction']}\")"
   ]
  }
 ],
 "metadata": {
  "kernelspec": {
   "display_name": "myenv",
   "language": "python",
   "name": "python3"
  },
  "language_info": {
   "codemirror_mode": {
    "name": "ipython",
    "version": 3
   },
   "file_extension": ".py",
   "mimetype": "text/x-python",
   "name": "python",
   "nbconvert_exporter": "python",
   "pygments_lexer": "ipython3",
   "version": "3.12.7"
  }
 },
 "nbformat": 4,
 "nbformat_minor": 2
}
